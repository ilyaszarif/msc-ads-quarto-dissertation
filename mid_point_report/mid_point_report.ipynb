{
  "cells": [
    {
      "cell_type": "raw",
      "metadata": {},
      "source": [
        "---\n",
        "title: \"**Mid point report**\"\n",
        "author: \"**Muhammad Ilyas**\"\n",
        "format:\n",
        "  pdf:\n",
        "    toc: true\n",
        "    toc-depth: 3\n",
        "    toc-title: Contents\n",
        "    number-sections: false\n",
        "    colorlinks: true\n",
        "    documentclass: report\n",
        "    papersize: A4\n",
        "    latex_engine: xelatex\n",
        "    mainfont: Times New Roman\n",
        "    geometry:\n",
        "      - top=2cm\n",
        "      - left=2cm\n",
        "      - bottom=2cm\n",
        "      - right=2cm\n",
        "execute:\n",
        "  echo: true\n",
        "  eval: false\n",
        "date: today\n",
        "editor: visual\n",
        "---"
      ],
      "id": "3babd5f6"
    },
    {
      "cell_type": "markdown",
      "metadata": {},
      "source": [
        "# Research Questions\n",
        "\n",
        "## Differential gene expression\n",
        "\n",
        "## Relevancy to research\n",
        "\n",
        "# Releant Literature\n",
        "\n",
        "## Studies on differential gene expression\n",
        "\n",
        "## Studies on Japanese quail\n",
        "\n",
        "# Data\n",
        "\n",
        "## Quail transcriptome data\n",
        "\n",
        "Provided by Dr. Barbara's Lab from Centre of Ecology and Conservation. The experiment was designed to investigate the effect of reproductive investment on animal physiology. Two lines with high and low investment based on egg size were selected to find up-regulation or down-regulation of genes. Both the lines were provided enough food to control for food related stress. The tissues investigated were brain, follicles and liver.\n",
        "\n",
        "# Data Wrangling\n",
        "\n",
        "The raw data needs processing to before any analysis can be performed. A pipeline was designed to process the raw transcriptome data. The process involves quality check, trimming adapter sequences and discarding low quality reads, mapping the transcriptome against a reference genome and obtaining count tables. The count tables can be used for down stream analysis of the data to find out which genes are differentially expressed. Due to the large size of data the servers were used for carrying the process. Most of the analysis was performed in R using Bioconductor, except for the mapping and generating count tables which were done using STAR and HTSeq respectively.\n",
        "\n",
        "```{BASH eval: false}\n",
        "cd dissertation/data\n",
        "```\n",
        "\n",
        "\n",
        "\n",
        "\n",
        "# Next Steps"
      ],
      "id": "35889ddf"
    }
  ],
  "metadata": {
    "kernelspec": {
      "name": "python3",
      "language": "python",
      "display_name": "Python 3 (ipykernel)"
    }
  },
  "nbformat": 4,
  "nbformat_minor": 5
}